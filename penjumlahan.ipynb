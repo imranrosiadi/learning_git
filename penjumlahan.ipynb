{
 "cells": [
  {
   "cell_type": "code",
   "execution_count": null,
   "id": "64b2fb9c-b811-4078-a3cf-152fb455bda8",
   "metadata": {},
   "outputs": [],
   "source": [
    "def penjumlahan ():\n",
    "    a = int(input('Masukkan angka pertama: '))\n",
    "    b = int(input('Masukkan angka kedua: '))\n",
    "    return a+b"
   ]
  }
 ],
 "metadata": {
  "kernelspec": {
   "display_name": "Python 3 (ipykernel)",
   "language": "python",
   "name": "python3"
  },
  "language_info": {
   "codemirror_mode": {
    "name": "ipython",
    "version": 3
   },
   "file_extension": ".py",
   "mimetype": "text/x-python",
   "name": "python",
   "nbconvert_exporter": "python",
   "pygments_lexer": "ipython3",
   "version": "3.11.9"
  }
 },
 "nbformat": 4,
 "nbformat_minor": 5
}
